{
 "cells": [
  {
   "cell_type": "code",
   "execution_count": 14,
   "metadata": {},
   "outputs": [],
   "source": [
    "import codecs, json\n",
    "import numpy as np\n",
    "import pandas as pd\n",
    "import glob\n",
    "import pickle\n",
    "from tqdm import tqdm"
   ]
  },
  {
   "cell_type": "markdown",
   "metadata": {},
   "source": [
    "# CLEANSING"
   ]
  },
  {
   "cell_type": "code",
   "execution_count": 15,
   "metadata": {},
   "outputs": [],
   "source": [
    "from Sastrawi.Stemmer.StemmerFactory import StemmerFactory\n",
    "from preprocess import prep\n",
    "factory = StemmerFactory()\n",
    "stemmer = factory.create_stemmer()\n",
    "\n",
    "# import StopWordRemoverFactory class\n",
    "from Sastrawi.StopWordRemover.StopWordRemoverFactory import StopWordRemoverFactory, StopWordRemover, ArrayDictionary\n",
    "stoplist = pd.read_csv('stoplist.csv')\n",
    "\n",
    "# Ambil Stopword bawaan\n",
    "stop_factory = StopWordRemoverFactory().get_stop_words()\n",
    "\n",
    "# Custom stopword\n",
    "data = stoplist['list'].tolist()\n",
    "\n",
    "dictionary = ArrayDictionary(data)\n",
    "stopword = StopWordRemover(dictionary)"
   ]
  },
  {
   "cell_type": "markdown",
   "metadata": {},
   "source": [
    "# MEMASUKKAN DATA LATIH DAN UJI"
   ]
  },
  {
   "cell_type": "code",
   "execution_count": 16,
   "metadata": {},
   "outputs": [
    {
     "data": {
      "image/png": "[encoded data removed]",
      "text/plain": [
       "<Figure size 432x288 with 1 Axes>"
      ]
     },
     "metadata": {
      "needs_background": "light"
     },
     "output_type": "display_data"
    },
    {
     "data": {
      "text/html": [
       "<div>\n",
       "<style scoped>\n",
       "    .dataframe tbody tr th:only-of-type {\n",
       "        vertical-align: middle;\n",
       "    }\n",
       "\n",
       "    .dataframe tbody tr th {\n",
       "        vertical-align: top;\n",
       "    }\n",
       "\n",
       "    .dataframe thead th {\n",
       "        text-align: right;\n",
       "    }\n",
       "</style>\n",
       "<table border=\"1\" class=\"dataframe\">\n",
       "  <thead>\n",
       "    <tr style=\"text-align: right;\">\n",
       "      <th></th>\n",
       "      <th>Kategori</th>\n",
       "      <th>Count</th>\n",
       "    </tr>\n",
       "  </thead>\n",
       "  <tbody>\n",
       "    <tr>\n",
       "      <th>1</th>\n",
       "      <td>kesehatan</td>\n",
       "      <td>233</td>\n",
       "    </tr>\n",
       "    <tr>\n",
       "      <th>0</th>\n",
       "      <td>bisnis</td>\n",
       "      <td>45</td>\n",
       "    </tr>\n",
       "  </tbody>\n",
       "</table>\n",
       "</div>"
      ],
      "text/plain": [
       "    Kategori  Count\n",
       "1  kesehatan    233\n",
       "0     bisnis     45"
      ]
     },
     "execution_count": 16,
     "metadata": {},
     "output_type": "execute_result"
    }
   ],
   "source": [
    "import seaborn as sns\n",
    "import matplotlib.pyplot as plt \n",
    "from nltk import FreqDist\n",
    "data2 = pd.read_json('data-labelled (1).json')\n",
    "# an empty list\n",
    "categories = [] \n",
    "\n",
    "# extract categories \n",
    "categories.append(list(data2.kategori)) \n",
    "all_categories = sum(categories,[])\n",
    "all_categories = FreqDist(all_categories) \n",
    "# create dataframe\n",
    "all_categories_df = pd.DataFrame({'Kategori': list(all_categories.keys()), \n",
    "                              'Count': list(all_categories.values())})\n",
    "sns.barplot(data=all_categories_df, y= \"Count\", x = \"Kategori\") \n",
    "plt.show()\n",
    "g = all_categories_df.nlargest(columns=\"Count\", n = 50) \n",
    "g.head()"
   ]
  },
  {
   "cell_type": "code",
   "execution_count": 19,
   "metadata": {},
   "outputs": [
    {
     "name": "stderr",
     "output_type": "stream",
     "text": [
      "100%|████████████████████████████████████████████████████████████████████████████████| 278/278 [00:39<00:00,  7.01it/s]\n"
     ]
    },
    {
     "data": {
      "text/html": [
       "<div>\n",
       "<style scoped>\n",
       "    .dataframe tbody tr th:only-of-type {\n",
       "        vertical-align: middle;\n",
       "    }\n",
       "\n",
       "    .dataframe tbody tr th {\n",
       "        vertical-align: top;\n",
       "    }\n",
       "\n",
       "    .dataframe thead th {\n",
       "        text-align: right;\n",
       "    }\n",
       "</style>\n",
       "<table border=\"1\" class=\"dataframe\">\n",
       "  <thead>\n",
       "    <tr style=\"text-align: right;\">\n",
       "      <th></th>\n",
       "      <th>kategori</th>\n",
       "      <th>stemmed</th>\n",
       "    </tr>\n",
       "  </thead>\n",
       "  <tbody>\n",
       "    <tr>\n",
       "      <th>0</th>\n",
       "      <td>kesehatan</td>\n",
       "      <td>wni suspek virus corona kabar masuk batam sing...</td>\n",
       "    </tr>\n",
       "    <tr>\n",
       "      <th>1</th>\n",
       "      <td>kesehatan</td>\n",
       "      <td>ahli ada aneh struktur virus corona wuhan disk...</td>\n",
       "    </tr>\n",
       "    <tr>\n",
       "      <th>2</th>\n",
       "      <td>kesehatan</td>\n",
       "      <td>wni positif tular virus corona singapura perin...</td>\n",
       "    </tr>\n",
       "    <tr>\n",
       "      <th>3</th>\n",
       "      <td>kesehatan</td>\n",
       "      <td>yang hamil bisa tular virus corona bayi kandun...</td>\n",
       "    </tr>\n",
       "    <tr>\n",
       "      <th>4</th>\n",
       "      <td>kesehatan</td>\n",
       "      <td>perintah indonesia rujuk standar badan sehat d...</td>\n",
       "    </tr>\n",
       "  </tbody>\n",
       "</table>\n",
       "</div>"
      ],
      "text/plain": [
       "    kategori                                            stemmed\n",
       "0  kesehatan  wni suspek virus corona kabar masuk batam sing...\n",
       "1  kesehatan  ahli ada aneh struktur virus corona wuhan disk...\n",
       "2  kesehatan  wni positif tular virus corona singapura perin...\n",
       "3  kesehatan  yang hamil bisa tular virus corona bayi kandun...\n",
       "4  kesehatan  perintah indonesia rujuk standar badan sehat d..."
      ]
     },
     "execution_count": 19,
     "metadata": {},
     "output_type": "execute_result"
    }
   ],
   "source": [
    "data2 = pd.read_json('data-labelled (1).json')\n",
    "# data2 = pd.read_json('labelled.txt') \n",
    "for i in tqdm(range(len(data2))):\n",
    "    data2.loc[i, 'stemmed'] = stemmer.stem(stopword.remove(prep(data2.loc[i, 'tweet'])))\n",
    "data2 = data2.drop(columns=['tweet']) # Get rid of the unstemmed column.\n",
    "data2 = data2.sample(frac=1).reset_index(drop=True)\n",
    "data2 = data2.drop_duplicates(subset=['stemmed'], keep='first')\n",
    "data2.head() "
   ]
  },
  {
   "cell_type": "code",
   "execution_count": 20,
   "metadata": {},
   "outputs": [],
   "source": [
    "# bigdata = pd.concat([githubdata, data2], ignore_index=True, sort =False)\n",
    "# bigdata.head()"
   ]
  },
  {
   "cell_type": "markdown",
   "metadata": {},
   "source": [
    "# FIT & TRANSFORM LABEL"
   ]
  },
  {
   "cell_type": "code",
   "execution_count": 21,
   "metadata": {},
   "outputs": [],
   "source": [
    "from sklearn.feature_extraction.text import TfidfVectorizer as tfidf\n",
    "from sklearn.model_selection import train_test_split\n",
    "vectorizer=tfidf()\n",
    "X = vectorizer.fit_transform(data2['stemmed'])\n",
    "y=data2['kategori']\n",
    "x_train,x_test,y_train,y_test= train_test_split(X,y,\n",
    "test_size=.075, random_state= 42) "
   ]
  },
  {
   "cell_type": "markdown",
   "metadata": {},
   "source": [
    "# TRAINING"
   ]
  },
  {
   "cell_type": "code",
   "execution_count": 22,
   "metadata": {},
   "outputs": [
    {
     "name": "stdout",
     "output_type": "stream",
     "text": [
      "total wilayah kait baru konfirmasi perintah positif singapura corona virus => kesehatan\n",
      "sedang temu tumpang princess diamond karantina pesiar kapal infeksi ncov corona virus => kesehatan\n",
      "baik hal pacu justru bambu tirai krisis terpa rebak akibat negara sehat corona virus => kesehatan\n",
      "tembus angka korban akibat lapor tinggal orang china coronavirus corona virus => kesehatan\n",
      "saat telah hari infeksi tinggal orang dunia china corona virus => kesehatan\n",
      "ganggu nasional tak keluh anung hubung gejala sehat corona virus => kesehatan\n",
      "tarik pajak besar mana negara hasil dunia => bisnis\n",
      "pimpin bawah rute mampu garuda baru tingkat hasil indonesia internasional => bisnis\n",
      "cathaypacific maskapai sampai minta landa krisis hadap kong hong juga akibat wabah viruscorona corona virus => kesehatan\n",
      "merah oranye tinggi wabah naik yang perintah singapura corona virus => kesehatan\n",
      "profil ungkap wenliang li dokter tinggal dunia wuhan corona virus => kesehatan\n",
      "prediksi putranto agus ri tak lama awan tahan jadi bahaya mati wabah sehat menteri corona virus => kesehatan\n",
      "twitch enam lima besar banding kali facebook iklan youtube dapat hasil => bisnis\n",
      "icu ruang baring an tua pasang tampil viral sedih video usia sebut sakit rumah infeksi via viruscorona corona virus => kesehatan\n",
      "waspada pedoman sesuai wn parikesit rsud laku malaysia isolasi sebar sehat menteri corona virus => kesehatan\n",
      "asisten tangga kerja rumah lapor orang yang tular positif via viruscorona singapura corona virus wni => kesehatan\n",
      "jackiechan ucap wow basmi siapa uang jempol acung chan jackie aksi patut laku miliar siap rp yang via viruscorona corona virus => bisnis\n",
      "belgia pertama capai itu mati akibat umum orang corona virus => kesehatan\n",
      "rang berturutturut terusmenerus ia jantung yingjie song alami serang wuhan corona virus => kesehatan\n",
      "masyarakat adu posko pemkab buka antisipasi natuna tular corona virus => kesehatan\n",
      "hoax putar pernyataanpernyataan keri takut fakta orangorang muncul makan kait via viruscorona corona virus => kesehatan\n"
     ]
    }
   ],
   "source": [
    "from sklearn.feature_extraction.text import CountVectorizer\n",
    "from sklearn.feature_extraction.text import TfidfTransformer\n",
    "import joblib\n",
    "from sklearn.naive_bayes import MultinomialNB\n",
    "\n",
    "# # Mengaktifkan/memanggil/membuat fungsi klasifikasi Naive Bayes dan OnVsRest\n",
    "classifier = MultinomialNB()\n",
    "# # Memasukkan data training\n",
    "classifier.fit(x_train, y_train)\n",
    "y_pred = classifier.predict(x_test)\n",
    "#hitung akurasi data test\n",
    "score = classifier.score(x_test, y_test)\n",
    "# all_labels = mlb.inverse_transform(pred)\n",
    "modelfile = 'modelNB-real.sav'\n",
    "labelfile = 'vectorizer-real.sav'\n",
    "joblib.dump(classifier, modelfile)\n",
    "joblib.dump(vectorizer, labelfile)\n",
    "for item, labels in zip(vectorizer.inverse_transform(x_test), y_test):\n",
    "    print('{0} => {1}'.format(\" \".join(item),labels))\n"
   ]
  },
  {
   "cell_type": "markdown",
   "metadata": {},
   "source": [
    "# TESTING MODEL"
   ]
  },
  {
   "cell_type": "code",
   "execution_count": 23,
   "metadata": {},
   "outputs": [
    {
     "data": {
      "text/plain": [
       "'kesehatan'"
      ]
     },
     "execution_count": 23,
     "metadata": {},
     "output_type": "execute_result"
    }
   ],
   "source": [
    "loaded_model = joblib.load('modelNB.sav')\n",
    "mlb = joblib.load('vectorizer.sav')\n",
    "cleantext = stemmer.stem(stopword.remove(prep(\"meninggal dunia\")))\n",
    "listz = [cleantext]\n",
    "listz = mlb.transform(listz)\n",
    "result = loaded_model.predict(listz)\n",
    "result[0]"
   ]
  },
  {
   "cell_type": "code",
   "execution_count": 24,
   "metadata": {},
   "outputs": [
    {
     "name": "stdout",
     "output_type": "stream",
     "text": [
      "Confusion Matrix\n",
      "\n",
      "[[ 1  3]\n",
      " [ 0 17]]\n",
      "\n",
      "Accuracy: 0.86\n",
      "\n",
      "Micro Precision: 0.86\n",
      "Micro Recall: 0.86\n",
      "Micro F1-score: 0.86\n",
      "\n",
      "Macro Precision: 0.93\n",
      "Macro Recall: 0.62\n",
      "Macro F1-score: 0.66\n",
      "\n",
      "Weighted Precision: 0.88\n",
      "Weighted Recall: 0.86\n",
      "Weighted F1-score: 0.82\n",
      "\n",
      "Classification Report\n",
      "\n",
      "              precision    recall  f1-score   support\n",
      "\n",
      "      bisnis       1.00      0.25      0.40         4\n",
      "   kesehatan       0.85      1.00      0.92        17\n",
      "\n",
      "    accuracy                           0.86        21\n",
      "   macro avg       0.93      0.62      0.66        21\n",
      "weighted avg       0.88      0.86      0.82        21\n",
      "\n"
     ]
    },
    {
     "data": {
      "image/png": "[encoded data removed]",
      "text/plain": [
       "<Figure size 720x720 with 2 Axes>"
      ]
     },
     "metadata": {
      "needs_background": "light"
     },
     "output_type": "display_data"
    }
   ],
   "source": [
    "#importing confusion matrix\n",
    "from sklearn.metrics import confusion_matrix,precision_recall_fscore_support\n",
    "confusion = confusion_matrix(y_test, y_pred,labels=['bisnis','kesehatan'])\n",
    "print('Confusion Matrix\\n')\n",
    "print(confusion)\n",
    "#importing accuracy_score, precision_score, recall_score, f1_score\n",
    "from sklearn.metrics import accuracy_score, precision_score, recall_score, f1_score\n",
    "print('\\nAccuracy: {:.2f}\\n'.format(accuracy_score(y_test, y_pred)))\n",
    "\n",
    "print('Micro Precision: {:.2f}'.format(precision_score(y_test, y_pred, average='micro')))\n",
    "print('Micro Recall: {:.2f}'.format(recall_score(y_test, y_pred, average='micro')))\n",
    "print('Micro F1-score: {:.2f}\\n'.format(f1_score(y_test, y_pred, average='micro')))\n",
    "\n",
    "print('Macro Precision: {:.2f}'.format(precision_score(y_test, y_pred, average='macro')))\n",
    "print('Macro Recall: {:.2f}'.format(recall_score(y_test, y_pred, average='macro')))\n",
    "print('Macro F1-score: {:.2f}\\n'.format(f1_score(y_test, y_pred, average='macro')))\n",
    "\n",
    "print('Weighted Precision: {:.2f}'.format(precision_score(y_test, y_pred, average='weighted')))\n",
    "print('Weighted Recall: {:.2f}'.format(recall_score(y_test, y_pred, average='weighted')))\n",
    "print('Weighted F1-score: {:.2f}'.format(f1_score(y_test, y_pred, average='weighted')))\n",
    "\n",
    "from sklearn.metrics import classification_report\n",
    "print('\\nClassification Report\\n')\n",
    "print(classification_report(y_test, y_pred))\n",
    "fig, ax = plt.subplots(figsize=(10,10))\n",
    "sns.heatmap(confusion, annot=True, fmt='d',\n",
    "            xticklabels=['bisnis','kesehatan'], yticklabels=['bisnis','kesehatan'])\n",
    "plt.ylabel('Actual')\n",
    "plt.xlabel('Predicted')\n",
    "plt.show()"
   ]
  },
  {
   "cell_type": "code",
   "execution_count": 25,
   "metadata": {},
   "outputs": [
    {
     "name": "stdout",
     "output_type": "stream",
     "text": [
      "x_test    21\n",
      "y_true    21\n",
      "y_pred    21\n",
      "dtype: int64\n"
     ]
    },
    {
     "data": {
      "text/html": [
       "<style  type=\"text/css\" >\n",
       "    #T_4333ad0a_d406_11ea_af13_48f17fde5bb5row6_col3 {\n",
       "            background-color:  #f00;\n",
       "        }    #T_4333ad0a_d406_11ea_af13_48f17fde5bb5row7_col3 {\n",
       "            background-color:  #f00;\n",
       "        }    #T_4333ad0a_d406_11ea_af13_48f17fde5bb5row16_col3 {\n",
       "            background-color:  #f00;\n",
       "        }</style><table id=\"T_4333ad0a_d406_11ea_af13_48f17fde5bb5\" ><thead>    <tr>        <th class=\"blank level0\" ></th>        <th class=\"col_heading level0 col0\" >x_test</th>        <th class=\"col_heading level0 col1\" >y_true</th>        <th class=\"col_heading level0 col2\" >y_pred</th>        <th class=\"col_heading level0 col3\" >correct</th>    </tr></thead><tbody>\n",
       "                <tr>\n",
       "                        <th id=\"T_4333ad0a_d406_11ea_af13_48f17fde5bb5level0_row0\" class=\"row_heading level0 row0\" >30</th>\n",
       "                        <td id=\"T_4333ad0a_d406_11ea_af13_48f17fde5bb5row0_col0\" class=\"data row0 col0\" >daripada devand bar akses bel buka buru cloud angkut derita</td>\n",
       "                        <td id=\"T_4333ad0a_d406_11ea_af13_48f17fde5bb5row0_col1\" class=\"data row0 col1\" >kesehatan</td>\n",
       "                        <td id=\"T_4333ad0a_d406_11ea_af13_48f17fde5bb5row0_col2\" class=\"data row0 col2\" >kesehatan</td>\n",
       "                        <td id=\"T_4333ad0a_d406_11ea_af13_48f17fde5bb5row0_col3\" class=\"data row0 col3\" >benar</td>\n",
       "            </tr>\n",
       "            <tr>\n",
       "                        <th id=\"T_4333ad0a_d406_11ea_af13_48f17fde5bb5level0_row1\" class=\"row_heading level0 row1\" >117</th>\n",
       "                        <td id=\"T_4333ad0a_d406_11ea_af13_48f17fde5bb5row1_col0\" class=\"data row1 col0\" >chatting current death buyback aplikasi basah buku baru bahwa blu angkut derita</td>\n",
       "                        <td id=\"T_4333ad0a_d406_11ea_af13_48f17fde5bb5row1_col1\" class=\"data row1 col1\" >kesehatan</td>\n",
       "                        <td id=\"T_4333ad0a_d406_11ea_af13_48f17fde5bb5row1_col2\" class=\"data row1 col2\" >kesehatan</td>\n",
       "                        <td id=\"T_4333ad0a_d406_11ea_af13_48f17fde5bb5row1_col3\" class=\"data row1 col3\" >benar</td>\n",
       "            </tr>\n",
       "            <tr>\n",
       "                        <th id=\"T_4333ad0a_d406_11ea_af13_48f17fde5bb5level0_row2\" class=\"row_heading level0 row2\" >79</th>\n",
       "                        <td id=\"T_4333ad0a_d406_11ea_af13_48f17fde5bb5row2_col0\" class=\"data row2 col0\" >ajb ateh botol banyak akar dapen benah dampak cara adalah bluluk cheng angkut derita</td>\n",
       "                        <td id=\"T_4333ad0a_d406_11ea_af13_48f17fde5bb5row2_col1\" class=\"data row2 col1\" >kesehatan</td>\n",
       "                        <td id=\"T_4333ad0a_d406_11ea_af13_48f17fde5bb5row2_col2\" class=\"data row2 col2\" >kesehatan</td>\n",
       "                        <td id=\"T_4333ad0a_d406_11ea_af13_48f17fde5bb5row2_col3\" class=\"data row2 col3\" >benar</td>\n",
       "            </tr>\n",
       "            <tr>\n",
       "                        <th id=\"T_4333ad0a_d406_11ea_af13_48f17fde5bb5level0_row3\" class=\"row_heading level0 row3\" >129</th>\n",
       "                        <td id=\"T_4333ad0a_d406_11ea_af13_48f17fde5bb5row3_col0\" class=\"data row3 col0\" >cumlaudelulusan aeon beli adalah berekspektasi danapro bor anggun angsur angkut derita</td>\n",
       "                        <td id=\"T_4333ad0a_d406_11ea_af13_48f17fde5bb5row3_col1\" class=\"data row3 col1\" >kesehatan</td>\n",
       "                        <td id=\"T_4333ad0a_d406_11ea_af13_48f17fde5bb5row3_col2\" class=\"data row3 col2\" >kesehatan</td>\n",
       "                        <td id=\"T_4333ad0a_d406_11ea_af13_48f17fde5bb5row3_col3\" class=\"data row3 col3\" >benar</td>\n",
       "            </tr>\n",
       "            <tr>\n",
       "                        <th id=\"T_4333ad0a_d406_11ea_af13_48f17fde5bb5level0_row4\" class=\"row_heading level0 row4\" >199</th>\n",
       "                        <td id=\"T_4333ad0a_d406_11ea_af13_48f17fde5bb5row4_col0\" class=\"data row4 col0\" >cemas cuci auditorium bahwa danapro bor areal anggun angkut derita</td>\n",
       "                        <td id=\"T_4333ad0a_d406_11ea_af13_48f17fde5bb5row4_col1\" class=\"data row4 col1\" >kesehatan</td>\n",
       "                        <td id=\"T_4333ad0a_d406_11ea_af13_48f17fde5bb5row4_col2\" class=\"data row4 col2\" >kesehatan</td>\n",
       "                        <td id=\"T_4333ad0a_d406_11ea_af13_48f17fde5bb5row4_col3\" class=\"data row4 col3\" >benar</td>\n",
       "            </tr>\n",
       "            <tr>\n",
       "                        <th id=\"T_4333ad0a_d406_11ea_af13_48f17fde5bb5level0_row5\" class=\"row_heading level0 row5\" >139</th>\n",
       "                        <td id=\"T_4333ad0a_d406_11ea_af13_48f17fde5bb5row5_col0\" class=\"data row5 col0\" >asnkerentanpakorupsi bloomberg cost bauksit agar baca asperindo cheng angkut derita</td>\n",
       "                        <td id=\"T_4333ad0a_d406_11ea_af13_48f17fde5bb5row5_col1\" class=\"data row5 col1\" >kesehatan</td>\n",
       "                        <td id=\"T_4333ad0a_d406_11ea_af13_48f17fde5bb5row5_col2\" class=\"data row5 col2\" >kesehatan</td>\n",
       "                        <td id=\"T_4333ad0a_d406_11ea_af13_48f17fde5bb5row5_col3\" class=\"data row5 col3\" >benar</td>\n",
       "            </tr>\n",
       "            <tr>\n",
       "                        <th id=\"T_4333ad0a_d406_11ea_af13_48f17fde5bb5level0_row6\" class=\"row_heading level0 row6\" >212</th>\n",
       "                        <td id=\"T_4333ad0a_d406_11ea_af13_48f17fde5bb5row6_col0\" class=\"data row6 col0\" >ct bpjph alvin biarpun bluluk average areal</td>\n",
       "                        <td id=\"T_4333ad0a_d406_11ea_af13_48f17fde5bb5row6_col1\" class=\"data row6 col1\" >bisnis</td>\n",
       "                        <td id=\"T_4333ad0a_d406_11ea_af13_48f17fde5bb5row6_col2\" class=\"data row6 col2\" >kesehatan</td>\n",
       "                        <td id=\"T_4333ad0a_d406_11ea_af13_48f17fde5bb5row6_col3\" class=\"data row6 col3\" >salah</td>\n",
       "            </tr>\n",
       "            <tr>\n",
       "                        <th id=\"T_4333ad0a_d406_11ea_af13_48f17fde5bb5level0_row7\" class=\"row_heading level0 row7\" >45</th>\n",
       "                        <td id=\"T_4333ad0a_d406_11ea_af13_48f17fde5bb5row7_col0\" class=\"data row7 col0\" >bulog akun celaka biar aspal akses danaxtra average bahkan bakal</td>\n",
       "                        <td id=\"T_4333ad0a_d406_11ea_af13_48f17fde5bb5row7_col1\" class=\"data row7 col1\" >bisnis</td>\n",
       "                        <td id=\"T_4333ad0a_d406_11ea_af13_48f17fde5bb5row7_col2\" class=\"data row7 col2\" >kesehatan</td>\n",
       "                        <td id=\"T_4333ad0a_d406_11ea_af13_48f17fde5bb5row7_col3\" class=\"data row7 col3\" >salah</td>\n",
       "            </tr>\n",
       "            <tr>\n",
       "                        <th id=\"T_4333ad0a_d406_11ea_af13_48f17fde5bb5level0_row8\" class=\"row_heading level0 row8\" >161</th>\n",
       "                        <td id=\"T_4333ad0a_d406_11ea_af13_48f17fde5bb5row8_col0\" class=\"data row8 col0\" >android bikin cepat birokrasi beraktifitas benah atau belah ayo banteng adalah desadesa derivatif angkut derita</td>\n",
       "                        <td id=\"T_4333ad0a_d406_11ea_af13_48f17fde5bb5row8_col1\" class=\"data row8 col1\" >kesehatan</td>\n",
       "                        <td id=\"T_4333ad0a_d406_11ea_af13_48f17fde5bb5row8_col2\" class=\"data row8 col2\" >kesehatan</td>\n",
       "                        <td id=\"T_4333ad0a_d406_11ea_af13_48f17fde5bb5row8_col3\" class=\"data row8 col3\" >benar</td>\n",
       "            </tr>\n",
       "            <tr>\n",
       "                        <th id=\"T_4333ad0a_d406_11ea_af13_48f17fde5bb5level0_row9\" class=\"row_heading level0 row9\" >250</th>\n",
       "                        <td id=\"T_4333ad0a_d406_11ea_af13_48f17fde5bb5row9_col0\" class=\"data row9 col0\" >biofuel borong danaq desadesa blasting dia buka cloud angkut derita</td>\n",
       "                        <td id=\"T_4333ad0a_d406_11ea_af13_48f17fde5bb5row9_col1\" class=\"data row9 col1\" >kesehatan</td>\n",
       "                        <td id=\"T_4333ad0a_d406_11ea_af13_48f17fde5bb5row9_col2\" class=\"data row9 col2\" >kesehatan</td>\n",
       "                        <td id=\"T_4333ad0a_d406_11ea_af13_48f17fde5bb5row9_col3\" class=\"data row9 col3\" >benar</td>\n",
       "            </tr>\n",
       "            <tr>\n",
       "                        <th id=\"T_4333ad0a_d406_11ea_af13_48f17fde5bb5level0_row10\" class=\"row_heading level0 row10\" >186</th>\n",
       "                        <td id=\"T_4333ad0a_d406_11ea_af13_48f17fde5bb5row10_col0\" class=\"data row10 col0\" >cabang deklarasi desus berkewarganegaraan appletoapple danapro areal dewi angkut derita</td>\n",
       "                        <td id=\"T_4333ad0a_d406_11ea_af13_48f17fde5bb5row10_col1\" class=\"data row10 col1\" >kesehatan</td>\n",
       "                        <td id=\"T_4333ad0a_d406_11ea_af13_48f17fde5bb5row10_col2\" class=\"data row10 col2\" >kesehatan</td>\n",
       "                        <td id=\"T_4333ad0a_d406_11ea_af13_48f17fde5bb5row10_col3\" class=\"data row10 col3\" >benar</td>\n",
       "            </tr>\n",
       "            <tr>\n",
       "                        <th id=\"T_4333ad0a_d406_11ea_af13_48f17fde5bb5level0_row11\" class=\"row_heading level0 row11\" >275</th>\n",
       "                        <td id=\"T_4333ad0a_d406_11ea_af13_48f17fde5bb5row11_col0\" class=\"data row11 col0\" >business campur achmad cashcash cost bentang aina corona balita ajang binaartha desadesa cheng biodiesel angkut derita</td>\n",
       "                        <td id=\"T_4333ad0a_d406_11ea_af13_48f17fde5bb5row11_col1\" class=\"data row11 col1\" >kesehatan</td>\n",
       "                        <td id=\"T_4333ad0a_d406_11ea_af13_48f17fde5bb5row11_col2\" class=\"data row11 col2\" >kesehatan</td>\n",
       "                        <td id=\"T_4333ad0a_d406_11ea_af13_48f17fde5bb5row11_col3\" class=\"data row11 col3\" >benar</td>\n",
       "            </tr>\n",
       "            <tr>\n",
       "                        <th id=\"T_4333ad0a_d406_11ea_af13_48f17fde5bb5level0_row12\" class=\"row_heading level0 row12\" >230</th>\n",
       "                        <td id=\"T_4333ad0a_d406_11ea_af13_48f17fde5bb5row12_col0\" class=\"data row12 col0\" >deficit armada bernas alvin akarakarnya barang artis bagi diam antisipasi average</td>\n",
       "                        <td id=\"T_4333ad0a_d406_11ea_af13_48f17fde5bb5row12_col1\" class=\"data row12 col1\" >bisnis</td>\n",
       "                        <td id=\"T_4333ad0a_d406_11ea_af13_48f17fde5bb5row12_col2\" class=\"data row12 col2\" >bisnis</td>\n",
       "                        <td id=\"T_4333ad0a_d406_11ea_af13_48f17fde5bb5row12_col3\" class=\"data row12 col3\" >benar</td>\n",
       "            </tr>\n",
       "            <tr>\n",
       "                        <th id=\"T_4333ad0a_d406_11ea_af13_48f17fde5bb5level0_row13\" class=\"row_heading level0 row13\" >82</th>\n",
       "                        <td id=\"T_4333ad0a_d406_11ea_af13_48f17fde5bb5row13_col0\" class=\"data row13 col0\" >badas cccash akselerasi administration datadata british cpns deret cheetah deputi denny chat cendurung cegah bahwa depot derivatif angkut derita</td>\n",
       "                        <td id=\"T_4333ad0a_d406_11ea_af13_48f17fde5bb5row13_col1\" class=\"data row13 col1\" >kesehatan</td>\n",
       "                        <td id=\"T_4333ad0a_d406_11ea_af13_48f17fde5bb5row13_col2\" class=\"data row13 col2\" >kesehatan</td>\n",
       "                        <td id=\"T_4333ad0a_d406_11ea_af13_48f17fde5bb5row13_col3\" class=\"data row13 col3\" >benar</td>\n",
       "            </tr>\n",
       "            <tr>\n",
       "                        <th id=\"T_4333ad0a_d406_11ea_af13_48f17fde5bb5level0_row14\" class=\"row_heading level0 row14\" >168</th>\n",
       "                        <td id=\"T_4333ad0a_d406_11ea_af13_48f17fde5bb5row14_col0\" class=\"data row14 col0\" >desomsoni budaya cipta developers bri cbu benoa bhima balaibalai charlotte cheng biodiesel angkut derita</td>\n",
       "                        <td id=\"T_4333ad0a_d406_11ea_af13_48f17fde5bb5row14_col1\" class=\"data row14 col1\" >kesehatan</td>\n",
       "                        <td id=\"T_4333ad0a_d406_11ea_af13_48f17fde5bb5row14_col2\" class=\"data row14 col2\" >kesehatan</td>\n",
       "                        <td id=\"T_4333ad0a_d406_11ea_af13_48f17fde5bb5row14_col3\" class=\"data row14 col3\" >benar</td>\n",
       "            </tr>\n",
       "            <tr>\n",
       "                        <th id=\"T_4333ad0a_d406_11ea_af13_48f17fde5bb5level0_row15\" class=\"row_heading level0 row15\" >197</th>\n",
       "                        <td id=\"T_4333ad0a_d406_11ea_af13_48f17fde5bb5row15_col0\" class=\"data row15 col0\" >ah credy bca cegah berekspektasi bor dia dc buru depot derivatif cloud angkut derita devisa</td>\n",
       "                        <td id=\"T_4333ad0a_d406_11ea_af13_48f17fde5bb5row15_col1\" class=\"data row15 col1\" >kesehatan</td>\n",
       "                        <td id=\"T_4333ad0a_d406_11ea_af13_48f17fde5bb5row15_col2\" class=\"data row15 col2\" >kesehatan</td>\n",
       "                        <td id=\"T_4333ad0a_d406_11ea_af13_48f17fde5bb5row15_col3\" class=\"data row15 col3\" >benar</td>\n",
       "            </tr>\n",
       "            <tr>\n",
       "                        <th id=\"T_4333ad0a_d406_11ea_af13_48f17fde5bb5level0_row16\" class=\"row_heading level0 row16\" >229</th>\n",
       "                        <td id=\"T_4333ad0a_d406_11ea_af13_48f17fde5bb5row16_col0\" class=\"data row16 col0\" >balikpapansurabaya degrave dewasa aksesibilitas ciri defisit bangku abdi anggar balikpapan adaptasi buat benoa bioskop cirebon category dia depot derivatif angkut derita</td>\n",
       "                        <td id=\"T_4333ad0a_d406_11ea_af13_48f17fde5bb5row16_col1\" class=\"data row16 col1\" >bisnis</td>\n",
       "                        <td id=\"T_4333ad0a_d406_11ea_af13_48f17fde5bb5row16_col2\" class=\"data row16 col2\" >kesehatan</td>\n",
       "                        <td id=\"T_4333ad0a_d406_11ea_af13_48f17fde5bb5row16_col3\" class=\"data row16 col3\" >salah</td>\n",
       "            </tr>\n",
       "            <tr>\n",
       "                        <th id=\"T_4333ad0a_d406_11ea_af13_48f17fde5bb5level0_row17\" class=\"row_heading level0 row17\" >149</th>\n",
       "                        <td id=\"T_4333ad0a_d406_11ea_af13_48f17fde5bb5row17_col0\" class=\"data row17 col0\" >ali bukopinbelum andal balas binaartha adalah dekat bor angkut derita</td>\n",
       "                        <td id=\"T_4333ad0a_d406_11ea_af13_48f17fde5bb5row17_col1\" class=\"data row17 col1\" >kesehatan</td>\n",
       "                        <td id=\"T_4333ad0a_d406_11ea_af13_48f17fde5bb5row17_col2\" class=\"data row17 col2\" >kesehatan</td>\n",
       "                        <td id=\"T_4333ad0a_d406_11ea_af13_48f17fde5bb5row17_col3\" class=\"data row17 col3\" >benar</td>\n",
       "            </tr>\n",
       "            <tr>\n",
       "                        <th id=\"T_4333ad0a_d406_11ea_af13_48f17fde5bb5level0_row18\" class=\"row_heading level0 row18\" >104</th>\n",
       "                        <td id=\"T_4333ad0a_d406_11ea_af13_48f17fde5bb5row18_col0\" class=\"data row18 col0\" >capa alur dan badan banderol diagnostics coffe adat cina dewi angkut derita</td>\n",
       "                        <td id=\"T_4333ad0a_d406_11ea_af13_48f17fde5bb5row18_col1\" class=\"data row18 col1\" >kesehatan</td>\n",
       "                        <td id=\"T_4333ad0a_d406_11ea_af13_48f17fde5bb5row18_col2\" class=\"data row18 col2\" >kesehatan</td>\n",
       "                        <td id=\"T_4333ad0a_d406_11ea_af13_48f17fde5bb5row18_col3\" class=\"data row18 col3\" >benar</td>\n",
       "            </tr>\n",
       "            <tr>\n",
       "                        <th id=\"T_4333ad0a_d406_11ea_af13_48f17fde5bb5level0_row19\" class=\"row_heading level0 row19\" >60</th>\n",
       "                        <td id=\"T_4333ad0a_d406_11ea_af13_48f17fde5bb5row19_col0\" class=\"data row19 col0\" >bimbing abusing buruh budi anakanak agak blower dc angkut derita</td>\n",
       "                        <td id=\"T_4333ad0a_d406_11ea_af13_48f17fde5bb5row19_col1\" class=\"data row19 col1\" >kesehatan</td>\n",
       "                        <td id=\"T_4333ad0a_d406_11ea_af13_48f17fde5bb5row19_col2\" class=\"data row19 col2\" >kesehatan</td>\n",
       "                        <td id=\"T_4333ad0a_d406_11ea_af13_48f17fde5bb5row19_col3\" class=\"data row19 col3\" >benar</td>\n",
       "            </tr>\n",
       "            <tr>\n",
       "                        <th id=\"T_4333ad0a_d406_11ea_af13_48f17fde5bb5level0_row20\" class=\"row_heading level0 row20\" >224</th>\n",
       "                        <td id=\"T_4333ad0a_d406_11ea_af13_48f17fde5bb5row20_col0\" class=\"data row20 col0\" >ayat caloncalon bukit bbni counter arus boring blakblakan bewahan bar depot derivatif angkut derita</td>\n",
       "                        <td id=\"T_4333ad0a_d406_11ea_af13_48f17fde5bb5row20_col1\" class=\"data row20 col1\" >kesehatan</td>\n",
       "                        <td id=\"T_4333ad0a_d406_11ea_af13_48f17fde5bb5row20_col2\" class=\"data row20 col2\" >kesehatan</td>\n",
       "                        <td id=\"T_4333ad0a_d406_11ea_af13_48f17fde5bb5row20_col3\" class=\"data row20 col3\" >benar</td>\n",
       "            </tr>\n",
       "    </tbody></table>"
      ],
      "text/plain": [
       "<pandas.io.formats.style.Styler at 0x1b57ab6cf70>"
      ]
     },
     "metadata": {},
     "output_type": "display_data"
    }
   ],
   "source": [
    "x_tes = []\n",
    "for i in mlb.inverse_transform(x_test):\n",
    "    x_tes.append(\" \".join(i))\n",
    "categdf=pd.DataFrame({\n",
    "                'x_test' : x_tes,\n",
    "                 'y_true': y_test,\n",
    "                 'y_pred': y_pred\n",
    "                })\n",
    "print(categdf.count())\n",
    "categdf['correct'] = np.where(categdf['y_true']==categdf['y_pred'], 'benar', 'salah')\n",
    "display(categdf.style.highlight_max(color='#f00', subset=pd.IndexSlice[:, ['correct']], axis=0))"
   ]
  },
  {
   "cell_type": "code",
   "execution_count": 26,
   "metadata": {},
   "outputs": [
    {
     "ename": "TypeError",
     "evalue": "ufunc 'isnan' not supported for the input types, and the inputs could not be safely coerced to any supported types according to the casting rule ''safe''",
     "output_type": "error",
     "traceback": [
      "\u001b[1;31m---------------------------------------------------------------------------\u001b[0m",
      "\u001b[1;31mTypeError\u001b[0m                                 Traceback (most recent call last)",
      "\u001b[1;32m<ipython-input-26-b62a47f4432f>\u001b[0m in \u001b[0;36m<module>\u001b[1;34m\u001b[0m\n\u001b[0;32m     16\u001b[0m \u001b[1;33m\u001b[0m\u001b[0m\n\u001b[0;32m     17\u001b[0m     \u001b[1;32mreturn\u001b[0m\u001b[1;33m(\u001b[0m\u001b[0mTP\u001b[0m\u001b[1;33m,\u001b[0m \u001b[0mFP\u001b[0m\u001b[1;33m,\u001b[0m \u001b[0mTN\u001b[0m\u001b[1;33m,\u001b[0m \u001b[0mFN\u001b[0m\u001b[1;33m)\u001b[0m\u001b[1;33m\u001b[0m\u001b[1;33m\u001b[0m\u001b[0m\n\u001b[1;32m---> 18\u001b[1;33m \u001b[0mperf_measure\u001b[0m\u001b[1;33m(\u001b[0m\u001b[0mmlb\u001b[0m\u001b[1;33m.\u001b[0m\u001b[0mtransform\u001b[0m\u001b[1;33m(\u001b[0m\u001b[0my_test\u001b[0m\u001b[1;33m)\u001b[0m\u001b[1;33m,\u001b[0m\u001b[0my_pred\u001b[0m\u001b[1;33m)\u001b[0m\u001b[1;33m\u001b[0m\u001b[1;33m\u001b[0m\u001b[0m\n\u001b[0m",
      "\u001b[1;32m<ipython-input-26-b62a47f4432f>\u001b[0m in \u001b[0;36mperf_measure\u001b[1;34m(y_actual, y_hat)\u001b[0m\n\u001b[0;32m      6\u001b[0m \u001b[1;33m\u001b[0m\u001b[0m\n\u001b[0;32m      7\u001b[0m     \u001b[1;32mfor\u001b[0m \u001b[0mi\u001b[0m \u001b[1;32min\u001b[0m \u001b[0mrange\u001b[0m\u001b[1;33m(\u001b[0m\u001b[0mlen\u001b[0m\u001b[1;33m(\u001b[0m\u001b[0my_hat\u001b[0m\u001b[1;33m)\u001b[0m\u001b[1;33m)\u001b[0m\u001b[1;33m:\u001b[0m\u001b[1;33m\u001b[0m\u001b[1;33m\u001b[0m\u001b[0m\n\u001b[1;32m----> 8\u001b[1;33m         \u001b[1;32mif\u001b[0m \u001b[0my_actual\u001b[0m\u001b[1;33m[\u001b[0m\u001b[0mi\u001b[0m\u001b[1;33m]\u001b[0m\u001b[1;33m==\u001b[0m\u001b[0my_hat\u001b[0m\u001b[1;33m[\u001b[0m\u001b[0mi\u001b[0m\u001b[1;33m]\u001b[0m\u001b[1;33m==\u001b[0m\u001b[1;36m1\u001b[0m\u001b[1;33m:\u001b[0m\u001b[1;33m\u001b[0m\u001b[1;33m\u001b[0m\u001b[0m\n\u001b[0m\u001b[0;32m      9\u001b[0m            \u001b[0mTP\u001b[0m \u001b[1;33m+=\u001b[0m \u001b[1;36m1\u001b[0m\u001b[1;33m\u001b[0m\u001b[1;33m\u001b[0m\u001b[0m\n\u001b[0;32m     10\u001b[0m         \u001b[1;32mif\u001b[0m \u001b[0my_hat\u001b[0m\u001b[1;33m[\u001b[0m\u001b[0mi\u001b[0m\u001b[1;33m]\u001b[0m\u001b[1;33m==\u001b[0m\u001b[1;36m1\u001b[0m \u001b[1;32mand\u001b[0m \u001b[0my_actual\u001b[0m\u001b[1;33m[\u001b[0m\u001b[0mi\u001b[0m\u001b[1;33m]\u001b[0m\u001b[1;33m!=\u001b[0m\u001b[0my_hat\u001b[0m\u001b[1;33m[\u001b[0m\u001b[0mi\u001b[0m\u001b[1;33m]\u001b[0m\u001b[1;33m:\u001b[0m\u001b[1;33m\u001b[0m\u001b[1;33m\u001b[0m\u001b[0m\n",
      "\u001b[1;32mc:\\python38\\lib\\site-packages\\scipy\\sparse\\compressed.py\u001b[0m in \u001b[0;36m__eq__\u001b[1;34m(self, other)\u001b[0m\n\u001b[0;32m    218\u001b[0m         \u001b[1;31m# Scalar other.\u001b[0m\u001b[1;33m\u001b[0m\u001b[1;33m\u001b[0m\u001b[1;33m\u001b[0m\u001b[0m\n\u001b[0;32m    219\u001b[0m         \u001b[1;32mif\u001b[0m \u001b[0misscalarlike\u001b[0m\u001b[1;33m(\u001b[0m\u001b[0mother\u001b[0m\u001b[1;33m)\u001b[0m\u001b[1;33m:\u001b[0m\u001b[1;33m\u001b[0m\u001b[1;33m\u001b[0m\u001b[0m\n\u001b[1;32m--> 220\u001b[1;33m             \u001b[1;32mif\u001b[0m \u001b[0mnp\u001b[0m\u001b[1;33m.\u001b[0m\u001b[0misnan\u001b[0m\u001b[1;33m(\u001b[0m\u001b[0mother\u001b[0m\u001b[1;33m)\u001b[0m\u001b[1;33m:\u001b[0m\u001b[1;33m\u001b[0m\u001b[1;33m\u001b[0m\u001b[0m\n\u001b[0m\u001b[0;32m    221\u001b[0m                 \u001b[1;32mreturn\u001b[0m \u001b[0mself\u001b[0m\u001b[1;33m.\u001b[0m\u001b[0m__class__\u001b[0m\u001b[1;33m(\u001b[0m\u001b[0mself\u001b[0m\u001b[1;33m.\u001b[0m\u001b[0mshape\u001b[0m\u001b[1;33m,\u001b[0m \u001b[0mdtype\u001b[0m\u001b[1;33m=\u001b[0m\u001b[0mnp\u001b[0m\u001b[1;33m.\u001b[0m\u001b[0mbool_\u001b[0m\u001b[1;33m)\u001b[0m\u001b[1;33m\u001b[0m\u001b[1;33m\u001b[0m\u001b[0m\n\u001b[0;32m    222\u001b[0m \u001b[1;33m\u001b[0m\u001b[0m\n",
      "\u001b[1;31mTypeError\u001b[0m: ufunc 'isnan' not supported for the input types, and the inputs could not be safely coerced to any supported types according to the casting rule ''safe''"
     ]
    }
   ],
   "source": [
    "def perf_measure(y_actual, y_hat):\n",
    "    TP = 0\n",
    "    FP = 0\n",
    "    TN = 0\n",
    "    FN = 0\n",
    "\n",
    "    for i in range(len(y_hat)): \n",
    "        if y_actual[i]==y_hat[i]==1:\n",
    "           TP += 1\n",
    "        if y_hat[i]==1 and y_actual[i]!=y_hat[i]:\n",
    "           FP += 1\n",
    "        if y_actual[i]==y_hat[i]==0:\n",
    "           TN += 1\n",
    "        if y_hat[i]==0 and y_actual[i]!=y_hat[i]:\n",
    "           FN += 1\n",
    "\n",
    "    return(TP, FP, TN, FN)\n",
    "perf_measure(mlb.transform(y_test),y_pred)"
   ]
  },
  {
   "cell_type": "code",
   "execution_count": null,
   "metadata": {},
   "outputs": [],
   "source": []
  },
  {
   "cell_type": "code",
   "execution_count": null,
   "metadata": {},
   "outputs": [],
   "source": [
    "# Predict the labels of the test set samples\n",
    "y_pred = classifier.predict(x_test)\n",
    "# y_pred = np.around(y_pred)\n",
    "# Build the confusion matrix of our 3-class classification problem\n",
    "cm = multilabel_confusion_matrix(y_test, y_pred)\n",
    "# cm_df = pd.DataFrame(cm,\n",
    "#                      index = ['kesehatan','bisnis'], \n",
    "#                      columns = np.array(pd.MultiIndex.from_product(['kesehatan','bisnis'])).tolist())\n",
    "print(cm)\n",
    "\n",
    "\n",
    "fpr = dict()\n",
    "tpr = dict()\n",
    "roc_auc = dict()\n",
    "for i in range(2):\n",
    "    fpr[i], tpr[i], _ = roc_curve(y_test[:, i], score[:, i])\n",
    "    roc_auc[i] = auc(fpr[i], tpr[i])\n",
    "colors = cycle(['blue', 'red', 'green'])\n",
    "for i, color in zip(range(2), colors):\n",
    "    plt.plot(fpr[i], tpr[i], color=color, lw=lw,\n",
    "             label='ROC curve of class {0} (area = {1:0.2f})'\n",
    "             ''.format(i, roc_auc[i]))\n",
    "plt.plot([0, 1], [0, 1], 'k--', lw=lw)\n",
    "plt.xlim([-0.05, 1.0])\n",
    "plt.ylim([0.0, 1.05])\n",
    "plt.xlabel('False Positive Rate')\n",
    "plt.ylabel('True Positive Rate')\n",
    "plt.title('Receiver operating characteristic for multi-class data')\n",
    "plt.legend(loc=\"lower right\")\n",
    "plt.show()"
   ]
  },
  {
   "cell_type": "code",
   "execution_count": null,
   "metadata": {},
   "outputs": [],
   "source": [
    "!pip install mlxtend\n",
    "import matplotlib.pyplot as plt\n",
    "from mlxtend.evaluate import confusion_matrix\n",
    "def plot_confusion_matrix(cm, classes,\n",
    "                          normalize=False,\n",
    "                          title='Confusion matrix',\n",
    "                          cmap=plt.cm.Blues):\n",
    "    \"\"\"\n",
    "    This function prints and plots the confusion matrix.\n",
    "    Normalization can be applied by setting `normalize=True`.\n",
    "    \"\"\"\n",
    "    import itertools\n",
    "    if normalize:\n",
    "        cm = cm.astype('float') / cm.sum(axis=1)[:, np.newaxis]\n",
    "        print(\"Normalized confusion matrix\")\n",
    "    else:\n",
    "        print('Confusion matrix, without normalization')\n",
    "\n",
    "    print(cm[0]+cm[1])\n",
    "    \n",
    "#     cm2 = cm[1]\n",
    "    cm = cm[0]+cm[1]\n",
    "\n",
    "    plt.imshow(cm, interpolation='nearest', cmap=cmap)\n",
    "    plt.title(title)\n",
    "    plt.colorbar()\n",
    "    tick_marks = np.arange(len(classes))\n",
    "    plt.xticks(tick_marks, classes, rotation=45)\n",
    "    plt.yticks(tick_marks, classes)\n",
    "\n",
    "    fmt = '.2f' if normalize else 'd'\n",
    "    thresh = cm.max() / 2.\n",
    "    for i, j in itertools.product(range(cm.shape[0]), range(cm.shape[1])):\n",
    "        plt.text(j, i, format(cm[i, j], fmt),\n",
    "                 horizontalalignment=\"center\",\n",
    "                 color=\"white\" if cm[i, j] > thresh else \"black\")\n",
    "\n",
    "    plt.ylabel('True label')\n",
    "    plt.xlabel('Predicted label')\n",
    "    plt.tight_layout()\n",
    "    \n",
    "np.set_printoptions(precision=2)\n",
    "\n",
    "# Plot non-normalized confusion matrix\n",
    "# plt.figure()\n",
    "# plot_confusion_matrix(cm, classes=[['bisnis'], ['kesehatan'], ['kesehatan','bisnis']],\n",
    "#                       title='Confusion matrix, without normalization')\n",
    "fig = plot_confusion_matrix(confusion,classes=['bisnis', 'kesehatan'],\n",
    "                      title='Confusion matrix, without normalization')\n",
    "plt.show()"
   ]
  },
  {
   "cell_type": "code",
   "execution_count": null,
   "metadata": {},
   "outputs": [],
   "source": []
  }
 ],
 "metadata": {
  "kernelspec": {
   "display_name": "Python 3",
   "language": "python",
   "name": "python3"
  },
  "language_info": {
   "codemirror_mode": {
    "name": "ipython",
    "version": 3
   },
   "file_extension": ".py",
   "mimetype": "text/x-python",
   "name": "python",
   "nbconvert_exporter": "python",
   "pygments_lexer": "ipython3",
   "version": "3.7.0"
  }
 },
 "nbformat": 4,
 "nbformat_minor": 2
}
